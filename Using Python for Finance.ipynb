{
 "cells": [
  {
   "cell_type": "code",
   "execution_count": 6,
   "metadata": {},
   "outputs": [
    {
     "name": "stdout",
     "output_type": "stream",
     "text": [
      "Collecting pandas-datareader\n",
      "\u001b[?25l  Downloading https://files.pythonhosted.org/packages/cc/5c/ea5b6dcfd0f55c5fb1e37fb45335ec01cceca199b8a79339137f5ed269e0/pandas_datareader-0.7.0-py2.py3-none-any.whl (111kB)\n",
      "\u001b[K    100% |████████████████████████████████| 112kB 2.9MB/s ta 0:00:01\n",
      "\u001b[?25hCollecting lxml (from pandas-datareader)\n",
      "\u001b[?25l  Downloading https://files.pythonhosted.org/packages/03/a4/9eea8035fc7c7670e5eab97f34ff2ef0ddd78a491bf96df5accedb0e63f5/lxml-4.2.5-cp36-cp36m-manylinux1_x86_64.whl (5.8MB)\n",
      "\u001b[K    100% |████████████████████████████████| 5.8MB 4.3MB/s eta 0:00:01\n",
      "\u001b[?25hCollecting wrapt (from pandas-datareader)\n",
      "  Downloading https://files.pythonhosted.org/packages/a0/47/66897906448185fcb77fc3c2b1bc20ed0ecca81a0f2f88eda3fc5a34fc3d/wrapt-1.10.11.tar.gz\n",
      "Requirement already satisfied: pandas>=0.19.2 in /srv/conda/lib/python3.6/site-packages (from pandas-datareader) (0.23.4)\n",
      "Requirement already satisfied: requests>=2.3.0 in /srv/conda/lib/python3.6/site-packages (from pandas-datareader) (2.19.1)\n",
      "Requirement already satisfied: python-dateutil>=2.5.0 in /srv/conda/lib/python3.6/site-packages (from pandas>=0.19.2->pandas-datareader) (2.7.3)\n",
      "Requirement already satisfied: numpy>=1.9.0 in /srv/conda/lib/python3.6/site-packages (from pandas>=0.19.2->pandas-datareader) (1.15.2)\n",
      "Requirement already satisfied: pytz>=2011k in /srv/conda/lib/python3.6/site-packages (from pandas>=0.19.2->pandas-datareader) (2018.5)\n",
      "Requirement already satisfied: chardet<3.1.0,>=3.0.2 in /srv/conda/lib/python3.6/site-packages (from requests>=2.3.0->pandas-datareader) (3.0.4)\n",
      "Requirement already satisfied: idna<2.8,>=2.5 in /srv/conda/lib/python3.6/site-packages (from requests>=2.3.0->pandas-datareader) (2.7)\n",
      "Requirement already satisfied: urllib3<1.24,>=1.21.1 in /srv/conda/lib/python3.6/site-packages (from requests>=2.3.0->pandas-datareader) (1.23)\n",
      "Requirement already satisfied: certifi>=2017.4.17 in /srv/conda/lib/python3.6/site-packages (from requests>=2.3.0->pandas-datareader) (2018.8.24)\n",
      "Requirement already satisfied: six>=1.5 in /srv/conda/lib/python3.6/site-packages (from python-dateutil>=2.5.0->pandas>=0.19.2->pandas-datareader) (1.11.0)\n",
      "Building wheels for collected packages: wrapt\n",
      "  Running setup.py bdist_wheel for wrapt ... \u001b[?25ldone\n",
      "\u001b[?25h  Stored in directory: /home/jovyan/.cache/pip/wheels/48/5d/04/22361a593e70d23b1f7746d932802efe1f0e523376a74f321e\n",
      "Successfully built wrapt\n",
      "Installing collected packages: lxml, wrapt, pandas-datareader\n",
      "Successfully installed lxml-4.2.5 pandas-datareader-0.7.0 wrapt-1.10.11\n"
     ]
    }
   ],
   "source": [
    "# Install a pip package in the current Jupyter kernel\n",
    "import sys\n",
    "!{sys.executable} -m pip install pandas-datareader"
   ]
  },
  {
   "cell_type": "code",
   "execution_count": 1,
   "metadata": {},
   "outputs": [],
   "source": [
    "import datetime as dt\n",
    "import matplotlib.pyplot as plt\n",
    "from matplotlib import style\n",
    "import pandas as pd\n",
    "import pandas_datareader.data as web\n"
   ]
  },
  {
   "cell_type": "code",
   "execution_count": 4,
   "metadata": {},
   "outputs": [
    {
     "name": "stdout",
     "output_type": "stream",
     "text": [
      "               High        Low     Open    Close    Volume  Adj Close\n",
      "Date                                                                 \n",
      "2000-01-03  89.5625  79.046799  81.5000  89.3750  16117600    89.3750\n",
      "2000-01-04  91.5000  81.750000  85.3750  81.9375  17487400    81.9375\n",
      "2000-01-05  75.1250  68.000000  70.5000  69.7500  38457400    69.7500\n",
      "2000-01-06  72.6875  64.000000  71.3125  65.5625  18752000    65.5625\n",
      "2000-01-07  70.5000  66.187500  67.0000  69.5625  10505400    69.5625\n"
     ]
    }
   ],
   "source": [
    "style.use('ggplot')\n",
    "\n",
    "start = dt.datetime(2000, 1, 1)\n",
    "end = dt.datetime(2016, 12, 31)\n",
    "\n",
    "df = web.DataReader('AMZN', 'yahoo', start, end)\n",
    "#print(df)\n",
    "df.to_csv('AMZN.csv')\n",
    "df = pd.read_csv('AMZN.csv', parse_dates = True, index_col = 0)\n",
    "print(df.head())"
   ]
  },
  {
   "cell_type": "code",
   "execution_count": 6,
   "metadata": {},
   "outputs": [
    {
     "data": {
      "text/plain": [
       "<matplotlib.axes._subplots.AxesSubplot at 0x7fc9292317f0>"
      ]
     },
     "execution_count": 6,
     "metadata": {},
     "output_type": "execute_result"
    },
    {
     "data": {
      "image/png": "[encoded data removed]",
      "text/plain": [
       "<Figure size 432x288 with 1 Axes>"
      ]
     },
     "metadata": {},
     "output_type": "display_data"
    }
   ],
   "source": [
    "df.plot()\n"
   ]
  },
  {
   "cell_type": "code",
   "execution_count": 7,
   "metadata": {},
   "outputs": [
    {
     "name": "stdout",
     "output_type": "stream",
     "text": [
      "                  Open        High\n",
      "Date                              \n",
      "2000-01-03   81.500000   89.562500\n",
      "2000-01-04   85.375000   91.500000\n",
      "2000-01-05   70.500000   75.125000\n",
      "2000-01-06   71.312500   72.687500\n",
      "2000-01-07   67.000000   70.500000\n",
      "2000-01-10   72.562500   72.625000\n",
      "2000-01-11   66.875000   70.000000\n",
      "2000-01-12   67.875000   68.000000\n",
      "2000-01-13   64.937500   67.187500\n",
      "2000-01-14   66.750000   68.625000\n",
      "2000-01-18   63.437500   65.187500\n",
      "2000-01-19   64.125000   67.500000\n",
      "2000-01-20   66.937500   67.000000\n",
      "2000-01-21   64.625000   64.625000\n",
      "2000-01-24   67.562500   73.375000\n",
      "2000-01-25   70.000000   71.250000\n",
      "2000-01-26   68.625000   70.000000\n",
      "2000-01-27   65.187500   67.750000\n",
      "2000-01-28   65.000000   66.437500\n",
      "2000-01-31   60.375000   64.750000\n",
      "2000-02-01   67.500000   70.625000\n",
      "2000-02-02   67.937500   72.250000\n",
      "2000-02-03   81.125000   85.937500\n",
      "2000-02-04   82.750000   82.750000\n",
      "2000-02-07   76.187500   76.875000\n",
      "2000-02-08   74.000000   84.000000\n",
      "2000-02-09   80.546799   83.734299\n",
      "2000-02-10   78.500000   79.875000\n",
      "2000-02-11   77.125000   79.125000\n",
      "2000-02-14   75.687500   75.750000\n",
      "...                ...         ...\n",
      "2016-11-17  749.320007  757.500000\n",
      "2016-11-18  761.000000  767.739990\n",
      "2016-11-21  766.000000  780.349976\n",
      "2016-11-22  788.169983  792.400024\n",
      "2016-11-23  781.729980  781.750000\n",
      "2016-11-25  786.500000  786.750000\n",
      "2016-11-28  776.989990  777.000000\n",
      "2016-11-29  768.000000  769.890015\n",
      "2016-11-30  762.000000  768.090027\n",
      "2016-12-01  752.409973  753.369995\n",
      "2016-12-02  743.400024  748.489990\n",
      "2016-12-05  745.000000  761.489990\n",
      "2016-12-06  763.989990  768.239990\n",
      "2016-12-07  764.549988  770.419983\n",
      "2016-12-08  771.869995  773.789978\n",
      "2016-12-09  770.000000  770.250000\n",
      "2016-12-12  766.400024  766.890015\n",
      "2016-12-13  764.960022  782.460022\n",
      "2016-12-14  778.250000  780.859985\n",
      "2016-12-15  766.280029  769.099976\n",
      "2016-12-16  765.000000  765.130005\n",
      "2016-12-19  758.890015  770.500000\n",
      "2016-12-20  768.650024  774.390015\n",
      "2016-12-21  770.000000  771.219971\n",
      "2016-12-22  768.119995  771.210022\n",
      "2016-12-23  764.549988  766.500000\n",
      "2016-12-27  763.400024  774.650024\n",
      "2016-12-28  776.250000  780.000000\n",
      "2016-12-29  772.400024  773.400024\n",
      "2016-12-30  766.469971  767.400024\n",
      "\n",
      "[4277 rows x 2 columns]\n"
     ]
    },
    {
     "data": {
      "text/plain": [
       "<matplotlib.axes._subplots.AxesSubplot at 0x7fc9292429b0>"
      ]
     },
     "execution_count": 7,
     "metadata": {},
     "output_type": "execute_result"
    },
    {
     "data": {
      "image/png": "[encoded data removed]",
      "text/plain": [
       "<Figure size 432x288 with 1 Axes>"
      ]
     },
     "metadata": {},
     "output_type": "display_data"
    }
   ],
   "source": [
    "print(df[['Open', 'High']])\n",
    "\n",
    "df['Adj Close'].plot()"
   ]
  },
  {
   "cell_type": "code",
   "execution_count": 15,
   "metadata": {},
   "outputs": [
    {
     "data": {
      "text/html": [
       "<div>\n",
       "<style scoped>\n",
       "    .dataframe tbody tr th:only-of-type {\n",
       "        vertical-align: middle;\n",
       "    }\n",
       "\n",
       "    .dataframe tbody tr th {\n",
       "        vertical-align: top;\n",
       "    }\n",
       "\n",
       "    .dataframe thead th {\n",
       "        text-align: right;\n",
       "    }\n",
       "</style>\n",
       "<table border=\"1\" class=\"dataframe\">\n",
       "  <thead>\n",
       "    <tr style=\"text-align: right;\">\n",
       "      <th></th>\n",
       "      <th>High</th>\n",
       "      <th>Low</th>\n",
       "      <th>Open</th>\n",
       "      <th>Close</th>\n",
       "      <th>Volume</th>\n",
       "      <th>Adj Close</th>\n",
       "      <th>100ma</th>\n",
       "    </tr>\n",
       "    <tr>\n",
       "      <th>Date</th>\n",
       "      <th></th>\n",
       "      <th></th>\n",
       "      <th></th>\n",
       "      <th></th>\n",
       "      <th></th>\n",
       "      <th></th>\n",
       "      <th></th>\n",
       "    </tr>\n",
       "  </thead>\n",
       "  <tbody>\n",
       "    <tr>\n",
       "      <th>2000-01-03</th>\n",
       "      <td>89.5625</td>\n",
       "      <td>79.046799</td>\n",
       "      <td>81.5000</td>\n",
       "      <td>89.3750</td>\n",
       "      <td>16117600</td>\n",
       "      <td>89.3750</td>\n",
       "      <td>NaN</td>\n",
       "    </tr>\n",
       "    <tr>\n",
       "      <th>2000-01-04</th>\n",
       "      <td>91.5000</td>\n",
       "      <td>81.750000</td>\n",
       "      <td>85.3750</td>\n",
       "      <td>81.9375</td>\n",
       "      <td>17487400</td>\n",
       "      <td>81.9375</td>\n",
       "      <td>NaN</td>\n",
       "    </tr>\n",
       "    <tr>\n",
       "      <th>2000-01-05</th>\n",
       "      <td>75.1250</td>\n",
       "      <td>68.000000</td>\n",
       "      <td>70.5000</td>\n",
       "      <td>69.7500</td>\n",
       "      <td>38457400</td>\n",
       "      <td>69.7500</td>\n",
       "      <td>NaN</td>\n",
       "    </tr>\n",
       "    <tr>\n",
       "      <th>2000-01-06</th>\n",
       "      <td>72.6875</td>\n",
       "      <td>64.000000</td>\n",
       "      <td>71.3125</td>\n",
       "      <td>65.5625</td>\n",
       "      <td>18752000</td>\n",
       "      <td>65.5625</td>\n",
       "      <td>NaN</td>\n",
       "    </tr>\n",
       "    <tr>\n",
       "      <th>2000-01-07</th>\n",
       "      <td>70.5000</td>\n",
       "      <td>66.187500</td>\n",
       "      <td>67.0000</td>\n",
       "      <td>69.5625</td>\n",
       "      <td>10505400</td>\n",
       "      <td>69.5625</td>\n",
       "      <td>NaN</td>\n",
       "    </tr>\n",
       "  </tbody>\n",
       "</table>\n",
       "</div>"
      ],
      "text/plain": [
       "               High        Low     Open    Close    Volume  Adj Close  100ma\n",
       "Date                                                                        \n",
       "2000-01-03  89.5625  79.046799  81.5000  89.3750  16117600    89.3750    NaN\n",
       "2000-01-04  91.5000  81.750000  85.3750  81.9375  17487400    81.9375    NaN\n",
       "2000-01-05  75.1250  68.000000  70.5000  69.7500  38457400    69.7500    NaN\n",
       "2000-01-06  72.6875  64.000000  71.3125  65.5625  18752000    65.5625    NaN\n",
       "2000-01-07  70.5000  66.187500  67.0000  69.5625  10505400    69.5625    NaN"
      ]
     },
     "execution_count": 15,
     "metadata": {},
     "output_type": "execute_result"
    }
   ],
   "source": [
    "df['100ma'] = df['Adj Close'].rolling(window = 100).mean()\n",
    "df.head()"
   ]
  },
  {
   "cell_type": "code",
   "execution_count": 14,
   "metadata": {},
   "outputs": [
    {
     "data": {
      "text/html": [
       "<div>\n",
       "<style scoped>\n",
       "    .dataframe tbody tr th:only-of-type {\n",
       "        vertical-align: middle;\n",
       "    }\n",
       "\n",
       "    .dataframe tbody tr th {\n",
       "        vertical-align: top;\n",
       "    }\n",
       "\n",
       "    .dataframe thead th {\n",
       "        text-align: right;\n",
       "    }\n",
       "</style>\n",
       "<table border=\"1\" class=\"dataframe\">\n",
       "  <thead>\n",
       "    <tr style=\"text-align: right;\">\n",
       "      <th></th>\n",
       "      <th>High</th>\n",
       "      <th>Low</th>\n",
       "      <th>Open</th>\n",
       "      <th>Close</th>\n",
       "      <th>Volume</th>\n",
       "      <th>Adj Close</th>\n",
       "      <th>100ma</th>\n",
       "    </tr>\n",
       "    <tr>\n",
       "      <th>Date</th>\n",
       "      <th></th>\n",
       "      <th></th>\n",
       "      <th></th>\n",
       "      <th></th>\n",
       "      <th></th>\n",
       "      <th></th>\n",
       "      <th></th>\n",
       "    </tr>\n",
       "  </thead>\n",
       "  <tbody>\n",
       "    <tr>\n",
       "      <th>2000-01-03</th>\n",
       "      <td>89.5625</td>\n",
       "      <td>79.046799</td>\n",
       "      <td>81.5000</td>\n",
       "      <td>89.3750</td>\n",
       "      <td>16117600</td>\n",
       "      <td>89.3750</td>\n",
       "      <td>89.375000</td>\n",
       "    </tr>\n",
       "    <tr>\n",
       "      <th>2000-01-04</th>\n",
       "      <td>91.5000</td>\n",
       "      <td>81.750000</td>\n",
       "      <td>85.3750</td>\n",
       "      <td>81.9375</td>\n",
       "      <td>17487400</td>\n",
       "      <td>81.9375</td>\n",
       "      <td>85.656250</td>\n",
       "    </tr>\n",
       "    <tr>\n",
       "      <th>2000-01-05</th>\n",
       "      <td>75.1250</td>\n",
       "      <td>68.000000</td>\n",
       "      <td>70.5000</td>\n",
       "      <td>69.7500</td>\n",
       "      <td>38457400</td>\n",
       "      <td>69.7500</td>\n",
       "      <td>80.354167</td>\n",
       "    </tr>\n",
       "    <tr>\n",
       "      <th>2000-01-06</th>\n",
       "      <td>72.6875</td>\n",
       "      <td>64.000000</td>\n",
       "      <td>71.3125</td>\n",
       "      <td>65.5625</td>\n",
       "      <td>18752000</td>\n",
       "      <td>65.5625</td>\n",
       "      <td>76.656250</td>\n",
       "    </tr>\n",
       "    <tr>\n",
       "      <th>2000-01-07</th>\n",
       "      <td>70.5000</td>\n",
       "      <td>66.187500</td>\n",
       "      <td>67.0000</td>\n",
       "      <td>69.5625</td>\n",
       "      <td>10505400</td>\n",
       "      <td>69.5625</td>\n",
       "      <td>75.237500</td>\n",
       "    </tr>\n",
       "  </tbody>\n",
       "</table>\n",
       "</div>"
      ],
      "text/plain": [
       "               High        Low     Open    Close    Volume  Adj Close  \\\n",
       "Date                                                                    \n",
       "2000-01-03  89.5625  79.046799  81.5000  89.3750  16117600    89.3750   \n",
       "2000-01-04  91.5000  81.750000  85.3750  81.9375  17487400    81.9375   \n",
       "2000-01-05  75.1250  68.000000  70.5000  69.7500  38457400    69.7500   \n",
       "2000-01-06  72.6875  64.000000  71.3125  65.5625  18752000    65.5625   \n",
       "2000-01-07  70.5000  66.187500  67.0000  69.5625  10505400    69.5625   \n",
       "\n",
       "                100ma  \n",
       "Date                   \n",
       "2000-01-03  89.375000  \n",
       "2000-01-04  85.656250  \n",
       "2000-01-05  80.354167  \n",
       "2000-01-06  76.656250  \n",
       "2000-01-07  75.237500  "
      ]
     },
     "execution_count": 14,
     "metadata": {},
     "output_type": "execute_result"
    }
   ],
   "source": [
    "#Using min_periods just makes < N days close price, where N is moving average days\n",
    "df['100ma'] = df['Adj Close'].rolling(window = 100, min_periods = 0).mean()\n",
    "df.head()"
   ]
  },
  {
   "cell_type": "code",
   "execution_count": 17,
   "metadata": {},
   "outputs": [
    {
     "data": {
      "image/png": "[encoded data removed]",
      "text/plain": [
       "<Figure size 432x288 with 2 Axes>"
      ]
     },
     "metadata": {},
     "output_type": "display_data"
    }
   ],
   "source": [
    "ax1 = plt.subplot2grid((6, 1), (0, 0), rowspan = 5, colspan = 1)\n",
    "ax2 = plt.subplot2grid((6, 1), (5, 0), rowspan = 1, colspan = 1, sharex = ax1)\n",
    "\n",
    "ax1.plot(df.index, df['Adj Close'])\n",
    "ax1.plot(df.index, df['100ma'])\n",
    "ax2.bar(df.index, df['Volume'])\n",
    "\n",
    "plt.show()"
   ]
  },
  {
   "cell_type": "code",
   "execution_count": null,
   "metadata": {},
   "outputs": [],
   "source": []
  }
 ],
 "metadata": {
  "celltoolbar": "Raw Cell Format",
  "kernelspec": {
   "display_name": "Python 3",
   "language": "python",
   "name": "python3"
  },
  "language_info": {
   "codemirror_mode": {
    "name": "ipython",
    "version": 3
   },
   "file_extension": ".py",
   "mimetype": "text/x-python",
   "name": "python",
   "nbconvert_exporter": "python",
   "pygments_lexer": "ipython3",
   "version": "3.6.6"
  }
 },
 "nbformat": 4,
 "nbformat_minor": 2
}
